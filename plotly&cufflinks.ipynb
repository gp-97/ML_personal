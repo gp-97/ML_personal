{
 "cells": [
  {
   "cell_type": "code",
   "execution_count": 65,
   "metadata": {},
   "outputs": [],
   "source": [
    "import pandas as pd\n",
    "import numpy as np\n",
    "%matplotlib inline"
   ]
  },
  {
   "cell_type": "code",
   "execution_count": 66,
   "metadata": {},
   "outputs": [],
   "source": [
    "import plotly"
   ]
  },
  {
   "cell_type": "code",
   "execution_count": 67,
   "metadata": {},
   "outputs": [],
   "source": [
    "import cufflinks as cf"
   ]
  },
  {
   "cell_type": "code",
   "execution_count": 68,
   "metadata": {},
   "outputs": [],
   "source": [
    "from plotly.offline import *"
   ]
  },
  {
   "cell_type": "code",
   "execution_count": 69,
   "metadata": {},
   "outputs": [
    {
     "data": {
      "text/html": [
       "        <script type=\"text/javascript\">\n",
       "        window.PlotlyConfig = {MathJaxConfig: 'local'};\n",
       "        if (window.MathJax) {MathJax.Hub.Config({SVG: {font: \"STIX-Web\"}});}\n",
       "        if (typeof require !== 'undefined') {\n",
       "        require.undef(\"plotly\");\n",
       "        requirejs.config({\n",
       "            paths: {\n",
       "                'plotly': ['https://cdn.plot.ly/plotly-latest.min']\n",
       "            }\n",
       "        });\n",
       "        require(['plotly'], function(Plotly) {\n",
       "            window._Plotly = Plotly;\n",
       "        });\n",
       "        }\n",
       "        </script>\n",
       "        "
      ]
     },
     "metadata": {},
     "output_type": "display_data"
    }
   ],
   "source": [
    "init_notebook_mode(connected=True)"
   ]
  },
  {
   "cell_type": "code",
   "execution_count": 70,
   "metadata": {},
   "outputs": [
    {
     "data": {
      "text/html": [
       "        <script type=\"text/javascript\">\n",
       "        window.PlotlyConfig = {MathJaxConfig: 'local'};\n",
       "        if (window.MathJax) {MathJax.Hub.Config({SVG: {font: \"STIX-Web\"}});}\n",
       "        if (typeof require !== 'undefined') {\n",
       "        require.undef(\"plotly\");\n",
       "        requirejs.config({\n",
       "            paths: {\n",
       "                'plotly': ['https://cdn.plot.ly/plotly-latest.min']\n",
       "            }\n",
       "        });\n",
       "        require(['plotly'], function(Plotly) {\n",
       "            window._Plotly = Plotly;\n",
       "        });\n",
       "        }\n",
       "        </script>\n",
       "        "
      ]
     },
     "metadata": {},
     "output_type": "display_data"
    }
   ],
   "source": [
    "cf.go_offline()"
   ]
  },
  {
   "cell_type": "code",
   "execution_count": 71,
   "metadata": {},
   "outputs": [],
   "source": [
    "df = pd.DataFrame(np.random.randn(100,4),columns='A B C D'.split())"
   ]
  },
  {
   "cell_type": "code",
   "execution_count": 72,
   "metadata": {},
   "outputs": [
    {
     "data": {
      "text/html": [
       "<div>\n",
       "<style scoped>\n",
       "    .dataframe tbody tr th:only-of-type {\n",
       "        vertical-align: middle;\n",
       "    }\n",
       "\n",
       "    .dataframe tbody tr th {\n",
       "        vertical-align: top;\n",
       "    }\n",
       "\n",
       "    .dataframe thead th {\n",
       "        text-align: right;\n",
       "    }\n",
       "</style>\n",
       "<table border=\"1\" class=\"dataframe\">\n",
       "  <thead>\n",
       "    <tr style=\"text-align: right;\">\n",
       "      <th></th>\n",
       "      <th>A</th>\n",
       "      <th>B</th>\n",
       "      <th>C</th>\n",
       "      <th>D</th>\n",
       "    </tr>\n",
       "  </thead>\n",
       "  <tbody>\n",
       "    <tr>\n",
       "      <th>0</th>\n",
       "      <td>0.391816</td>\n",
       "      <td>-0.936751</td>\n",
       "      <td>-0.258288</td>\n",
       "      <td>-0.905212</td>\n",
       "    </tr>\n",
       "    <tr>\n",
       "      <th>1</th>\n",
       "      <td>-0.222192</td>\n",
       "      <td>0.899391</td>\n",
       "      <td>1.268937</td>\n",
       "      <td>-1.000245</td>\n",
       "    </tr>\n",
       "    <tr>\n",
       "      <th>2</th>\n",
       "      <td>0.118590</td>\n",
       "      <td>2.051855</td>\n",
       "      <td>0.076671</td>\n",
       "      <td>0.757933</td>\n",
       "    </tr>\n",
       "    <tr>\n",
       "      <th>3</th>\n",
       "      <td>-0.347079</td>\n",
       "      <td>0.147545</td>\n",
       "      <td>-1.597509</td>\n",
       "      <td>1.867393</td>\n",
       "    </tr>\n",
       "    <tr>\n",
       "      <th>4</th>\n",
       "      <td>1.204031</td>\n",
       "      <td>0.866365</td>\n",
       "      <td>0.731765</td>\n",
       "      <td>-0.417248</td>\n",
       "    </tr>\n",
       "  </tbody>\n",
       "</table>\n",
       "</div>"
      ],
      "text/plain": [
       "          A         B         C         D\n",
       "0  0.391816 -0.936751 -0.258288 -0.905212\n",
       "1 -0.222192  0.899391  1.268937 -1.000245\n",
       "2  0.118590  2.051855  0.076671  0.757933\n",
       "3 -0.347079  0.147545 -1.597509  1.867393\n",
       "4  1.204031  0.866365  0.731765 -0.417248"
      ]
     },
     "execution_count": 72,
     "metadata": {},
     "output_type": "execute_result"
    }
   ],
   "source": [
    "df.head()"
   ]
  },
  {
   "cell_type": "code",
   "execution_count": 73,
   "metadata": {},
   "outputs": [],
   "source": [
    "df2 = pd.DataFrame({'Category':['A','B','C'],'Values':[32,43,50]})"
   ]
  },
  {
   "cell_type": "code",
   "execution_count": 74,
   "metadata": {},
   "outputs": [
    {
     "data": {
      "text/html": [
       "<div>\n",
       "<style scoped>\n",
       "    .dataframe tbody tr th:only-of-type {\n",
       "        vertical-align: middle;\n",
       "    }\n",
       "\n",
       "    .dataframe tbody tr th {\n",
       "        vertical-align: top;\n",
       "    }\n",
       "\n",
       "    .dataframe thead th {\n",
       "        text-align: right;\n",
       "    }\n",
       "</style>\n",
       "<table border=\"1\" class=\"dataframe\">\n",
       "  <thead>\n",
       "    <tr style=\"text-align: right;\">\n",
       "      <th></th>\n",
       "      <th>Category</th>\n",
       "      <th>Values</th>\n",
       "    </tr>\n",
       "  </thead>\n",
       "  <tbody>\n",
       "    <tr>\n",
       "      <th>0</th>\n",
       "      <td>A</td>\n",
       "      <td>32</td>\n",
       "    </tr>\n",
       "    <tr>\n",
       "      <th>1</th>\n",
       "      <td>B</td>\n",
       "      <td>43</td>\n",
       "    </tr>\n",
       "    <tr>\n",
       "      <th>2</th>\n",
       "      <td>C</td>\n",
       "      <td>50</td>\n",
       "    </tr>\n",
       "  </tbody>\n",
       "</table>\n",
       "</div>"
      ],
      "text/plain": [
       "  Category  Values\n",
       "0        A      32\n",
       "1        B      43\n",
       "2        C      50"
      ]
     },
     "execution_count": 74,
     "metadata": {},
     "output_type": "execute_result"
    }
   ],
   "source": [
    "df2.head()"
   ]
  },
  {
   "cell_type": "code",
   "execution_count": 75,
   "metadata": {},
   "outputs": [
    {
     "data": {
      "text/plain": [
       "<matplotlib.axes._subplots.AxesSubplot at 0x7f77bd04dcf8>"
      ]
     },
     "execution_count": 75,
     "metadata": {},
     "output_type": "execute_result"
    },
    {
     "data": {
      "image/png": "[encoded data removed]",
      "text/plain": [
       "<Figure size 432x288 with 1 Axes>"
      ]
     },
     "metadata": {
      "needs_background": "light"
     },
     "output_type": "display_data"
    }
   ],
   "source": [
    "df.plot()"
   ]
  },
  {
   "cell_type": "code",
   "execution_count": 77,
   "metadata": {},
   "outputs": [
    {
     "data": {
      "application/vnd.plotly.v1+json": {
       "config": {
        "linkText": "Export to plot.ly",
        "plotlyServerURL": "https://plot.ly",
        "showLink": true
       },
       "data": [
        {
         "histfunc": "count",
         "histnorm": "",
         "marker": {
          "color": "rgba(255, 153, 51, 1.0)",
          "line": {
           "color": "#4D5663",
           "width": 1.3
          }
         },
         "name": "A",
         "opacity": 0.8,
         "orientation": "v",
         "type": "histogram",
         "uid": "852971ae-e86a-41ff-82ec-73eaa91d2840",
         "x": [
          0.3918157183537688,
          -0.2221917832320256,
          0.11858990053240975,
          -0.3470788547342838,
          1.2040305340474728,
          -1.5535030983442402,
          0.7910969821984735,
          0.6142351609178938,
          0.3494184123366581,
          0.05577491295822724,
          -0.46643893163939104,
          -0.6464786728457859,
          -1.83385711526925,
          0.1390687650570643,
          -2.302371689849005,
          -1.011399005662632,
          0.9304352163450859,
          -0.7064263289401528,
          -0.3859569714415662,
          1.5440006922733318,
          0.9783737647790202,
          -1.7398148193345824,
          -0.6326897238127386,
          1.0846426706192867,
          -0.24855932104272943,
          1.4702673678496803,
          1.2985138592617937,
          2.3347505324942577,
          -0.5217375314011532,
          -0.9386974111766688,
          -0.7952585094754423,
          0.3806272334035154,
          -0.23460023129600494,
          1.7725071510483852,
          -0.39745036259641936,
          0.4699837456584171,
          0.6431982344507842,
          -0.7367057581718236,
          -1.5642501977487966,
          0.4726352742118058,
          -1.2468871016541063,
          -0.6462583619092093,
          -0.35037406110299146,
          -1.8378708748904653,
          -0.686216432295455,
          0.35823692880008257,
          -0.5246812690248408,
          1.0196690452209713,
          0.358290911729361,
          0.0013548125253657116,
          0.9606800430619122,
          0.41210800422299715,
          0.4590495481789953,
          0.15184477744341746,
          0.9108073057898636,
          0.7505889556941946,
          0.9561165941080185,
          0.34803819907748057,
          -0.2436626595390353,
          -0.1101011580606406,
          -0.9950250602082945,
          -1.221277898002832,
          0.385121847360881,
          0.5500544161430634,
          1.168941612732902,
          -0.5256904857694596,
          1.7994330862484775,
          0.03305496543676674,
          -0.04089489986792353,
          -1.4944081567153829,
          0.09528477521980008,
          -0.3386192999592537,
          -0.6849521362277466,
          -0.37360602627727457,
          0.7712345141216428,
          0.27983497114421435,
          0.7127892818980491,
          -0.5066513461442563,
          0.6790801122833712,
          0.27672279624256546,
          -0.07563572799040975,
          -0.2664239293070617,
          0.802511567403221,
          -1.152823225673667,
          0.9933421400790572,
          -1.211202331004683,
          -0.675134687580975,
          -0.5455897945590216,
          1.9477962796920112,
          0.5855837169255393,
          0.4306930656822391,
          2.569941027199295,
          -0.19204608322153055,
          -2.034429990123912,
          -2.3780633860903846,
          0.5882767861915786,
          2.0570826277803183,
          1.6122963229894542,
          0.5717898577169453,
          -1.6874569839744662
         ]
        }
       ],
       "layout": {
        "barmode": "overlay",
        "legend": {
         "bgcolor": "#F5F6F9",
         "font": {
          "color": "#4D5663"
         }
        },
        "paper_bgcolor": "#F5F6F9",
        "plot_bgcolor": "#F5F6F9",
        "title": {
         "font": {
          "color": "#4D5663"
         }
        },
        "xaxis": {
         "gridcolor": "#E1E5ED",
         "showgrid": true,
         "tickfont": {
          "color": "#4D5663"
         },
         "title": {
          "font": {
           "color": "#4D5663"
          },
          "text": ""
         },
         "zerolinecolor": "#E1E5ED"
        },
        "yaxis": {
         "gridcolor": "#E1E5ED",
         "showgrid": true,
         "tickfont": {
          "color": "#4D5663"
         },
         "title": {
          "font": {
           "color": "#4D5663"
          },
          "text": ""
         },
         "zerolinecolor": "#E1E5ED"
        }
       }
      },
      "text/html": [
       "<div>\n",
       "        \n",
       "        \n",
       "            <div id=\"383be3e6-ef84-48e2-b7ff-6617ff1cd88f\" class=\"plotly-graph-div\" style=\"height:525px; width:100%;\"></div>\n",
       "            <script type=\"text/javascript\">\n",
       "                require([\"plotly\"], function(Plotly) {\n",
       "                    window.PLOTLYENV=window.PLOTLYENV || {};\n",
       "                    window.PLOTLYENV.BASE_URL='https://plot.ly';\n",
       "                    \n",
       "                if (document.getElementById(\"383be3e6-ef84-48e2-b7ff-6617ff1cd88f\")) {\n",
       "                    Plotly.newPlot(\n",
       "                        '383be3e6-ef84-48e2-b7ff-6617ff1cd88f',\n",
       "                        [{\"histfunc\": \"count\", \"histnorm\": \"\", \"marker\": {\"color\": \"rgba(255, 153, 51, 1.0)\", \"line\": {\"color\": \"#4D5663\", \"width\": 1.3}}, \"name\": \"A\", \"opacity\": 0.8, \"orientation\": \"v\", \"type\": \"histogram\", \"uid\": \"852971ae-e86a-41ff-82ec-73eaa91d2840\", \"x\": [0.3918157183537688, -0.2221917832320256, 0.11858990053240975, -0.3470788547342838, 1.2040305340474728, -1.5535030983442402, 0.7910969821984735, 0.6142351609178938, 0.3494184123366581, 0.05577491295822724, -0.46643893163939104, -0.6464786728457859, -1.83385711526925, 0.1390687650570643, -2.302371689849005, -1.011399005662632, 0.9304352163450859, -0.7064263289401528, -0.3859569714415662, 1.5440006922733318, 0.9783737647790202, -1.7398148193345824, -0.6326897238127386, 1.0846426706192867, -0.24855932104272943, 1.4702673678496803, 1.2985138592617937, 2.3347505324942577, -0.5217375314011532, -0.9386974111766688, -0.7952585094754423, 0.3806272334035154, -0.23460023129600494, 1.7725071510483852, -0.39745036259641936, 0.4699837456584171, 0.6431982344507842, -0.7367057581718236, -1.5642501977487966, 0.4726352742118058, -1.2468871016541063, -0.6462583619092093, -0.35037406110299146, -1.8378708748904653, -0.686216432295455, 0.35823692880008257, -0.5246812690248408, 1.0196690452209713, 0.358290911729361, 0.0013548125253657116, 0.9606800430619122, 0.41210800422299715, 0.4590495481789953, 0.15184477744341746, 0.9108073057898636, 0.7505889556941946, 0.9561165941080185, 0.34803819907748057, -0.2436626595390353, -0.1101011580606406, -0.9950250602082945, -1.221277898002832, 0.385121847360881, 0.5500544161430634, 1.168941612732902, -0.5256904857694596, 1.7994330862484775, 0.03305496543676674, -0.04089489986792353, -1.4944081567153829, 0.09528477521980008, -0.3386192999592537, -0.6849521362277466, -0.37360602627727457, 0.7712345141216428, 0.27983497114421435, 0.7127892818980491, -0.5066513461442563, 0.6790801122833712, 0.27672279624256546, -0.07563572799040975, -0.2664239293070617, 0.802511567403221, -1.152823225673667, 0.9933421400790572, -1.211202331004683, -0.675134687580975, -0.5455897945590216, 1.9477962796920112, 0.5855837169255393, 0.4306930656822391, 2.569941027199295, -0.19204608322153055, -2.034429990123912, -2.3780633860903846, 0.5882767861915786, 2.0570826277803183, 1.6122963229894542, 0.5717898577169453, -1.6874569839744662]}],\n",
       "                        {\"barmode\": \"overlay\", \"legend\": {\"bgcolor\": \"#F5F6F9\", \"font\": {\"color\": \"#4D5663\"}}, \"paper_bgcolor\": \"#F5F6F9\", \"plot_bgcolor\": \"#F5F6F9\", \"title\": {\"font\": {\"color\": \"#4D5663\"}}, \"xaxis\": {\"gridcolor\": \"#E1E5ED\", \"showgrid\": true, \"tickfont\": {\"color\": \"#4D5663\"}, \"title\": {\"font\": {\"color\": \"#4D5663\"}, \"text\": \"\"}, \"zerolinecolor\": \"#E1E5ED\"}, \"yaxis\": {\"gridcolor\": \"#E1E5ED\", \"showgrid\": true, \"tickfont\": {\"color\": \"#4D5663\"}, \"title\": {\"font\": {\"color\": \"#4D5663\"}, \"text\": \"\"}, \"zerolinecolor\": \"#E1E5ED\"}},\n",
       "                        {\"showLink\": true, \"linkText\": \"Export to plot.ly\", \"plotlyServerURL\": \"https://plot.ly\", \"responsive\": true}\n",
       "                    ).then(function(){\n",
       "                            \n",
       "var gd = document.getElementById('383be3e6-ef84-48e2-b7ff-6617ff1cd88f');\n",
       "var x = new MutationObserver(function (mutations, observer) {{\n",
       "        var display = window.getComputedStyle(gd).display;\n",
       "        if (!display || display === 'none') {{\n",
       "            console.log([gd, 'removed!']);\n",
       "            Plotly.purge(gd);\n",
       "            observer.disconnect();\n",
       "        }}\n",
       "}});\n",
       "\n",
       "// Listen for the removal of the full notebook cells\n",
       "var notebookContainer = gd.closest('#notebook-container');\n",
       "if (notebookContainer) {{\n",
       "    x.observe(notebookContainer, {childList: true});\n",
       "}}\n",
       "\n",
       "// Listen for the clearing of the current output cell\n",
       "var outputEl = gd.closest('.output');\n",
       "if (outputEl) {{\n",
       "    x.observe(outputEl, {childList: true});\n",
       "}}\n",
       "\n",
       "                        })\n",
       "                };\n",
       "                });\n",
       "            </script>\n",
       "        </div>"
      ]
     },
     "metadata": {},
     "output_type": "display_data"
    }
   ],
   "source": [
    "df['A'].iplot(kind='histogram')"
   ]
  },
  {
   "cell_type": "code",
   "execution_count": null,
   "metadata": {},
   "outputs": [],
   "source": []
  },
  {
   "cell_type": "code",
   "execution_count": null,
   "metadata": {},
   "outputs": [],
   "source": []
  },
  {
   "cell_type": "code",
   "execution_count": null,
   "metadata": {},
   "outputs": [],
   "source": []
  }
 ],
 "metadata": {
  "kernelspec": {
   "display_name": "Python 3",
   "language": "python",
   "name": "python3"
  },
  "language_info": {
   "codemirror_mode": {
    "name": "ipython",
    "version": 3
   },
   "file_extension": ".py",
   "mimetype": "text/x-python",
   "name": "python",
   "nbconvert_exporter": "python",
   "pygments_lexer": "ipython3",
   "version": "3.7.3"
  }
 },
 "nbformat": 4,
 "nbformat_minor": 2
}
